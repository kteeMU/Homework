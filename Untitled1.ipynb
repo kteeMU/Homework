{
 "cells": [
  {
   "cell_type": "code",
   "execution_count": 2,
   "id": "771fc2c4-10e8-424c-bca6-ccc8e4d46fa4",
   "metadata": {},
   "outputs": [
    {
     "name": "stdout",
     "output_type": "stream",
     "text": [
      "[['Name', 'Count', 'Revenue', 'Average']]\n"
     ]
    }
   ],
   "source": [
    "from pathlib import Path\n",
    "import csv\n",
    "\n",
    "csvpath = Path(\"/Users/thehalpins/FinTech_instructionals/Homework/sales.csv\")\n",
    "records = []\n",
    "\n",
    "with open(csvpath, 'r') as csvFile:\n",
    "    \n",
    "    csvreader = csv.reader(csvFile, delimiter=',')\n",
    "    csv_header = next(csvreader)\n",
    "    csv_header.append(\"Average\")\n",
    "    records.append(csv_header)\n",
    "    print(records)"
   ]
  },
  {
   "cell_type": "code",
   "execution_count": null,
   "id": "c1f5d9ad-1d50-483f-bdeb-8911e92d4a19",
   "metadata": {},
   "outputs": [],
   "source": []
  }
 ],
 "metadata": {
  "kernelspec": {
   "display_name": "Python 3 (ipykernel)",
   "language": "python",
   "name": "python3"
  },
  "language_info": {
   "codemirror_mode": {
    "name": "ipython",
    "version": 3
   },
   "file_extension": ".py",
   "mimetype": "text/x-python",
   "name": "python",
   "nbconvert_exporter": "python",
   "pygments_lexer": "ipython3",
   "version": "3.7.13"
  }
 },
 "nbformat": 4,
 "nbformat_minor": 5
}
