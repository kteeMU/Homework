{
 "cells": [
  {
   "cell_type": "raw",
   "id": "7c7deed5-d54c-4e82-a63b-a4638935ffb6",
   "metadata": {},
   "source": [
    "\n",
    "from pathlib import Path\n",
    "import csv\n",
    "\n",
    "csvpath = Path('.accounting.csv')\n",
    "records = []\n",
    "\n",
    "line_num = 0\n",
    "\n",
    "with open(csvpath, 'r') as csvFile:\n",
    "    \n",
    "    csvreader = csv.reader(csvFile, delimiter=',')\n",
    "    \n",
    "    header = next(csvreader)\n",
    "    #append the 'average' column to the header\n",
    "    records.append(\"Average\", col)\n",
    "\n",
    "    line_num += 1\n",
    "    \n",
    "    for row in csvreader:\n",
    "        print(row)\n",
    "        name = records[0]\n",
    "        count = int(row[1])\n",
    "        revenue = int(row[2])\n",
    "        average = revenue / count\n",
    "        \n",
    "\n",
    "\n",
    "\n"
   ]
  },
  {
   "cell_type": "code",
   "execution_count": null,
   "id": "bbb9baf2-6f4e-4ef5-95cc-8fe2053a4303",
   "metadata": {},
   "outputs": [],
   "source": []
  }
 ],
 "metadata": {
  "kernelspec": {
   "display_name": "Python 3 (ipykernel)",
   "language": "python",
   "name": "python3"
  },
  "language_info": {
   "codemirror_mode": {
    "name": "ipython",
    "version": 3
   },
   "file_extension": ".py",
   "mimetype": "text/x-python",
   "name": "python",
   "nbconvert_exporter": "python",
   "pygments_lexer": "ipython3",
   "version": "3.9.12"
  }
 },
 "nbformat": 4,
 "nbformat_minor": 5
}
