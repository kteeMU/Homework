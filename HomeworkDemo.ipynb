{
 "cells": [
  {
   "cell_type": "code",
   "execution_count": 46,
   "id": "47f321a2-e077-4afa-a4e1-9072cf9a2714",
   "metadata": {},
   "outputs": [
    {
     "name": "stdout",
     "output_type": "stream",
     "text": [
      "[['Name', 'Count', 'Revenue', 'Average']]\n",
      "['Andrew', '9', '58']\n"
     ]
    },
    {
     "ename": "TypeError",
     "evalue": "unsupported operand type(s) for /: 'str' and 'int'",
     "output_type": "error",
     "traceback": [
      "\u001b[0;31m---------------------------------------------------------------------------\u001b[0m",
      "\u001b[0;31mTypeError\u001b[0m                                 Traceback (most recent call last)",
      "\u001b[0;32m/var/folders/l0/lhy7vhx10w9gh2mbb7yfzb1r0000gn/T/ipykernel_15781/3872597422.py\u001b[0m in \u001b[0;36m<module>\u001b[0;34m\u001b[0m\n\u001b[1;32m     31\u001b[0m         \u001b[0mCount\u001b[0m \u001b[0;34m=\u001b[0m \u001b[0mrow\u001b[0m\u001b[0;34m[\u001b[0m\u001b[0;36m1\u001b[0m\u001b[0;34m]\u001b[0m\u001b[0;34m\u001b[0m\u001b[0;34m\u001b[0m\u001b[0m\n\u001b[1;32m     32\u001b[0m         \u001b[0mrevenue\u001b[0m \u001b[0;34m=\u001b[0m \u001b[0mrow\u001b[0m\u001b[0;34m[\u001b[0m\u001b[0;36m2\u001b[0m\u001b[0;34m]\u001b[0m\u001b[0;34m\u001b[0m\u001b[0;34m\u001b[0m\u001b[0m\n\u001b[0;32m---> 33\u001b[0;31m         \u001b[0maverage\u001b[0m \u001b[0;34m=\u001b[0m \u001b[0mrevenue\u001b[0m \u001b[0;34m/\u001b[0m \u001b[0mcount\u001b[0m \u001b[0;34m,\u001b[0m\u001b[0;36m2\u001b[0m\u001b[0;34m\u001b[0m\u001b[0;34m\u001b[0m\u001b[0m\n\u001b[0m\u001b[1;32m     34\u001b[0m         \u001b[0mprint\u001b[0m\u001b[0;34m(\u001b[0m\u001b[0mrow\u001b[0m\u001b[0;34m[\u001b[0m\u001b[0;36m3\u001b[0m\u001b[0;34m]\u001b[0m\u001b[0;34m)\u001b[0m\u001b[0;34m\u001b[0m\u001b[0;34m\u001b[0m\u001b[0m\n\u001b[1;32m     35\u001b[0m \u001b[0;34m\u001b[0m\u001b[0m\n",
      "\u001b[0;31mTypeError\u001b[0m: unsupported operand type(s) for /: 'str' and 'int'"
     ]
    }
   ],
   "source": [
    "from pathlib import Path\n",
    "import csv\n",
    "\n",
    "csvpath = Path(\"/Users/thehalpins/FinTech_instructionals/Homework/sales.csv\")\n",
    "records = []\n",
    "line_num = 0\n",
    "\n",
    "with open(csvpath, 'r') as csvFile:\n",
    "    \n",
    "    csvreader = csv.reader(csvFile, delimiter=',')\n",
    "    csv_header = next(csvreader)\n",
    "    csv_header.append(\"Average\")\n",
    "    records.append(csv_header)\n",
    "    print(records)\n",
    "\n",
    "   \n",
    "    for row in csvreader:\n",
    "        name = row[0]\n",
    "        count = int(row[1])\n",
    "        revenue = int(row[2])\n",
    "\n",
    "        # Calculate the average and round to the nearest 2 decimal places\n",
    "        average = round(revenue / count, 2)\n",
    " \n",
    "        header = next(csvreader)\n",
    "        line_num += 1\n",
    "    \n",
    "        print(row)\n",
    "\n",
    "        name = row[0]\n",
    "        Count = row[1]\n",
    "        revenue = row[2]\n",
    "        average = revenue / count ,2\n",
    "        print(row[3])\n",
    "        \n",
    "#        row.append(average)\n",
    "        records.append(row)\n",
    "\n",
    "output_path = Path(\"output.csv\")\n",
    "\n",
    "with open(output_path, 'w') as csvfile:\n",
    "    csvwriter = csv.writer(csvfile, delimiter=',')\n",
    "    \n",
    "        \n",
    "        "
   ]
  },
  {
   "cell_type": "code",
   "execution_count": null,
   "id": "b36ee901-ae43-4e83-a7c3-db630020f5d1",
   "metadata": {},
   "outputs": [],
   "source": []
  }
 ],
 "metadata": {
  "kernelspec": {
   "display_name": "Python 3 (ipykernel)",
   "language": "python",
   "name": "python3"
  },
  "language_info": {
   "codemirror_mode": {
    "name": "ipython",
    "version": 3
   },
   "file_extension": ".py",
   "mimetype": "text/x-python",
   "name": "python",
   "nbconvert_exporter": "python",
   "pygments_lexer": "ipython3",
   "version": "3.9.12"
  }
 },
 "nbformat": 4,
 "nbformat_minor": 5
}
