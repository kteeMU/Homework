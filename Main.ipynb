{
 "cells": [
  {
   "cell_type": "code",
   "execution_count": 12,
   "id": "1ebbfd19-53b5-4b27-b778-2a26e29cf3f2",
   "metadata": {},
   "outputs": [
    {
     "name": "stdout",
     "output_type": "stream",
     "text": [
      "[['Name', 'Count', 'Revenue', 'Average']]\n",
      "['Andrew', '9', '58']\n",
      "6\n",
      "['Madison', '5', '302']\n",
      "60\n",
      "['Tyler', '1', '334']\n",
      "334\n",
      "['Steve', '1', '178']\n",
      "178\n",
      "['Sarah', '8', '103']\n",
      "12\n",
      "['Andrew', '5', '349']\n",
      "69\n",
      "['Madison', '4', '196']\n",
      "49\n",
      "['Devon', '9', '220']\n",
      "24\n",
      "['Sarah', '7', '277']\n",
      "39\n",
      "['Sally', '9', '198']\n",
      "22\n",
      "['Andrew', '1', '191']\n",
      "191\n",
      "['Carl', '1', '300']\n",
      "300\n",
      "['Madison', '4', '202']\n",
      "50\n",
      "['Phil', '6', '249']\n",
      "41\n"
     ]
    },
    {
     "ename": "StopIteration",
     "evalue": "",
     "output_type": "error",
     "traceback": [
      "\u001b[0;31m---------------------------------------------------------------------------\u001b[0m",
      "\u001b[0;31mStopIteration\u001b[0m                             Traceback (most recent call last)",
      "Input \u001b[0;32mIn [12]\u001b[0m, in \u001b[0;36m<cell line: 8>\u001b[0;34m()\u001b[0m\n\u001b[1;32m     22\u001b[0m \u001b[38;5;66;03m# Calculate the average and round to the nearest 2 decimal places\u001b[39;00m\n\u001b[1;32m     23\u001b[0m average \u001b[38;5;241m=\u001b[39m \u001b[38;5;28mround\u001b[39m(revenue \u001b[38;5;241m/\u001b[39m count, \u001b[38;5;241m2\u001b[39m)\n\u001b[0;32m---> 25\u001b[0m header \u001b[38;5;241m=\u001b[39m \u001b[38;5;28;43mnext\u001b[39;49m\u001b[43m(\u001b[49m\u001b[43mcsvreader\u001b[49m\u001b[43m)\u001b[49m\n\u001b[1;32m     26\u001b[0m line_num \u001b[38;5;241m+\u001b[39m\u001b[38;5;241m=\u001b[39m \u001b[38;5;241m1\u001b[39m\n\u001b[1;32m     28\u001b[0m \u001b[38;5;28mprint\u001b[39m(row)\n",
      "\u001b[0;31mStopIteration\u001b[0m: "
     ]
    }
   ],
   "source": [
    "from pathlib import Path\n",
    "import csv\n",
    "\n",
    "csvpath = Path(\"/Users/thehalpins/FinTech_instructionals/Homework/sales.csv\")\n",
    "records = []\n",
    "line_num = 0\n",
    "\n",
    "with open(csvpath, 'r') as csvFile:\n",
    "    \n",
    "    csvreader = csv.reader(csvFile, delimiter=',')\n",
    "    csv_header = next(csvreader)\n",
    "    csv_header.append(\"Average\")\n",
    "    records.append(csv_header)\n",
    "    print(records)\n",
    "\n",
    "   \n",
    "    for row in csvreader:\n",
    "        name = row[0]\n",
    "        count = int(row[1])\n",
    "        revenue = int(row[2])\n",
    "\n",
    "        # Calculate the average and round to the nearest 2 decimal places\n",
    "        average = round(revenue / count, 2)\n",
    " \n",
    "        header = next(csvreader)\n",
    "        line_num += 1\n",
    "    \n",
    "        print(row)\n",
    "\n",
    "        name = row[0]\n",
    "        Count = row[1]\n",
    "        revenue = row[2]\n",
    "        average = int(revenue) // int(count)\n",
    "        print(average)\n",
    "        \n",
    "        row.append(average)\n",
    "        records.append(row)\n",
    "\n",
    "output_path = Path(\"output.csv\")\n",
    "print(output_path)\n",
    "with open(output_path, 'w') as csvfile:\n",
    "    csvwriter = csv.writer(csvfile, delimiter=',')\n",
    "    \n",
    "        "
   ]
  },
  {
   "cell_type": "code",
   "execution_count": null,
   "id": "c94bea6e-5c98-4cff-9fcd-77c34196a6fa",
   "metadata": {},
   "outputs": [],
   "source": []
  }
 ],
 "metadata": {
  "kernelspec": {
   "display_name": "Python 3 (ipykernel)",
   "language": "python",
   "name": "python3"
  },
  "language_info": {
   "codemirror_mode": {
    "name": "ipython",
    "version": 3
   },
   "file_extension": ".py",
   "mimetype": "text/x-python",
   "name": "python",
   "nbconvert_exporter": "python",
   "pygments_lexer": "ipython3",
   "version": "3.9.12"
  }
 },
 "nbformat": 4,
 "nbformat_minor": 5
}
