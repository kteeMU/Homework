{
 "cells": [
  {
   "cell_type": "code",
   "execution_count": null,
   "id": "cb2df6de-a55b-4b44-8412-c953c84842bd",
   "metadata": {},
   "outputs": [],
   "source": []
  },
  {
   "cell_type": "code",
   "execution_count": null,
   "id": "925673e3-a53f-426c-ba2f-11169ffab762",
   "metadata": {},
   "outputs": [],
   "source": []
  },
  {
   "cell_type": "code",
   "execution_count": 2,
   "id": "fc1929a1-5086-4858-ac9c-691ca433491c",
   "metadata": {},
   "outputs": [
    {
     "name": "stdout",
     "output_type": "stream",
     "text": [
      "1331.0\n"
     ]
    }
   ],
   "source": [
    "#FV = PV * (L+R/N)^t\n",
    "def calculate_future_value(present_value, interest_rate, compounding_periods, years):\n",
    "    future_value = present_value * ((1 + (interest_rate / compounding_periods))**(compounding_periods*years))\n",
    "    future_value_formatted = round(future_value, 2)\n",
    "    \n",
    "    return future_value_formatted\n",
    "\n",
    "present_value = 1000\n",
    "interest_rate = .1\n",
    "compounding_periods = 1\n",
    "years = 3\n",
    "\n",
    "future_value = calculate_future_value(present_value, interest_rate, compounding_periods, years)\n",
    "\n",
    "print(future_value)\n",
    "    "
   ]
  },
  {
   "cell_type": "code",
   "execution_count": 42,
   "id": "effa08b4-32d2-4b73-acaa-b8a3053e3de8",
   "metadata": {},
   "outputs": [
    {
     "name": "stdout",
     "output_type": "stream",
     "text": [
      "5259.2\n",
      "8469.99\n",
      "5259.2\n",
      "buy\n",
      "-3210.79\n"
     ]
    }
   ],
   "source": [
    "#PV = FV / (L+R/N)^t\n",
    "def calculate_present_value(future_value, interest_rate, compounding_periods, years):\n",
    "    \n",
    "    present_value = future_value / ((1 + (interest_rate / compounding_periods))**(compounding_periods*years))\n",
    "    present_value_formatted = round(present_value, 2)\n",
    "    \n",
    "    return present_value_formatted\n",
    "\n",
    "future_value = 7000\n",
    "interest_rate = .1\n",
    "compounding_periods = 1\n",
    "years = 3\n",
    "\n",
    "present_value = calculate_present_value(future_value, interest_rate, compounding_periods, years)\n",
    "bond_value = present_value\n",
    "print(present_value)\n",
    "print\n",
    "def calculate_future_value(present_value, interest_rate, compounding_periods, years):\n",
    "    future_value = present_value * ((1 + (interest_rate / compounding_periods))**(compounding_periods*years))\n",
    "    future_value_formatted = round(future_value, 2)\n",
    "    \n",
    "    return future_value_formatted\n",
    "price = 700\n",
    "future_value = 1000\n",
    "discount_rate = .1\n",
    "compounding_periods = 1\n",
    "years = 5\n",
    "\n",
    "\n",
    "future_value = calculate_future_value(present_value, interest_rate, compounding_periods, years)\n",
    "\n",
    "if present_value > future_value:\n",
    "    Print(\"sell\")\n",
    "    #else print(\"sell\")\n",
    "\n",
    "print(future_value)\n",
    "print(present_value)\n",
    "print(\"buy\")\n",
    "\n",
    "Result = present_value - future_value\n",
    "print(Result)\n"
   ]
  },
  {
   "cell_type": "code",
   "execution_count": null,
   "id": "fb9b9fe8-7c1b-45df-a9e6-08953f6338b6",
   "metadata": {},
   "outputs": [],
   "source": []
  },
  {
   "cell_type": "code",
   "execution_count": null,
   "id": "f824324f-fced-4d96-8997-57dea4b7914d",
   "metadata": {},
   "outputs": [],
   "source": []
  }
 ],
 "metadata": {
  "kernelspec": {
   "display_name": "Python 3 (ipykernel)",
   "language": "python",
   "name": "python3"
  },
  "language_info": {
   "codemirror_mode": {
    "name": "ipython",
    "version": 3
   },
   "file_extension": ".py",
   "mimetype": "text/x-python",
   "name": "python",
   "nbconvert_exporter": "python",
   "pygments_lexer": "ipython3",
   "version": "3.9.12"
  }
 },
 "nbformat": 4,
 "nbformat_minor": 5
}
