{
 "cells": [
  {
   "cell_type": "code",
   "execution_count": null,
   "id": "7ea14dc3-8e53-4eb1-9f14-7ac13cc5d96b",
   "metadata": {},
   "outputs": [],
   "source": [
    "number = int(line) \n",
    "customer_total += number\n",
    "day_count =+ 1\n"
   ]
  }
 ],
 "metadata": {
  "kernelspec": {
   "display_name": "Python 3 (ipykernel)",
   "language": "python",
   "name": "python3"
  },
  "language_info": {
   "codemirror_mode": {
    "name": "ipython",
    "version": 3
   },
   "file_extension": ".py",
   "mimetype": "text/x-python",
   "name": "python",
   "nbconvert_exporter": "python",
   "pygments_lexer": "ipython3",
   "version": "3.7.13"
  }
 },
 "nbformat": 4,
 "nbformat_minor": 5
}
