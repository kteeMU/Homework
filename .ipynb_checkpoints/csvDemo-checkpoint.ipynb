{
 "cells": [
  {
   "cell_type": "code",
   "execution_count": 2,
   "id": "8b632b42-5cd1-41e8-bf01-69ecda41d0b1",
   "metadata": {},
   "outputs": [],
   "source": [
    "from pathlib import Path\n",
    "import csv\n"
   ]
  },
  {
   "cell_type": "code",
   "execution_count": 3,
   "id": "32d473b1-0c43-428b-8876-98ef8d26dee0",
   "metadata": {},
   "outputs": [],
   "source": [
    "csvpath = Path('.accounting.csv')"
   ]
  },
  {
   "cell_type": "code",
   "execution_count": null,
   "id": "4c21d932-4617-4f40-ba26-72feca3ad93d",
   "metadata": {},
   "outputs": [],
   "source": [
    "salaries = []\n",
    "\n",
    "line_num = 0\n",
    "\n",
    "with open(csvpath, 'r') as csvFile:\n",
    "    \n",
    "    csvreader = csv.reader(csvFile, delimiter=',')\n",
    "    \n",
    "    header = next(csvreader)\n",
    "    line_num += 1\n",
    "    \n",
    "    for row in csvreader:\n",
    "        print(row)\n",
    "        salary = int(row[3])\n",
    "        salaries.append(salary)\n",
    "        \n",
    "max_salary = 0\n",
    "min_salary = 0\n",
    "avg_salary = 0\n",
    "total_salary = 0\n",
    "count_salary = 0\n",
    "\n",
    "for salary in salaries:\n",
    "\n",
    "    total_salary += salary\n",
    "    count_salary +=1\n",
    "    \n",
    "    if min_salary == 0:\n",
    "        min_salary = salary\n",
    "    elif salary > max_salary:\n",
    "        max_salary = salary\n",
    "    elif salary < min_salary:\n",
    "        min_salary - salary"
   ]
  }
 ],
 "metadata": {
  "kernelspec": {
   "display_name": "Python 3 (ipykernel)",
   "language": "python",
   "name": "python3"
  },
  "language_info": {
   "codemirror_mode": {
    "name": "ipython",
    "version": 3
   },
   "file_extension": ".py",
   "mimetype": "text/x-python",
   "name": "python",
   "nbconvert_exporter": "python",
   "pygments_lexer": "ipython3",
   "version": "3.7.13"
  }
 },
 "nbformat": 4,
 "nbformat_minor": 5
}
