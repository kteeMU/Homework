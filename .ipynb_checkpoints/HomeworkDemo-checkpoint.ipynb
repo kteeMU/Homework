{
 "cells": [
  {
   "cell_type": "code",
   "execution_count": 31,
   "id": "47f321a2-e077-4afa-a4e1-9072cf9a2714",
   "metadata": {},
   "outputs": [
    {
     "name": "stdout",
     "output_type": "stream",
     "text": [
      "[['Name', 'Count', 'Revenue', 'Average']]\n"
     ]
    }
   ],
   "source": [
    "from pathlib import Path\n",
    "import csv\n",
    "\n",
    "csvpath = Path(\"/Users/thehalpins/FinTech_instructionals/Homework/sales.csv\")\n",
    "records = []\n",
    "\n",
    "with open(csvpath, 'r') as csvFile:\n",
    "    \n",
    "    csvreader = csv.reader(csvFile, delimiter=',')\n",
    "    csv_header = next(csvreader)\n",
    "    csv_header.append(\"Average\")\n",
    "    records.append(csv_header)\n",
    "    print(records)\n",
    "\n",
    "   \n",
    "    for row in csvreader:\n",
    " \n",
    "        name = row[0]\n",
    "        count = row[1]\n",
    "        revenue = row[2]\n",
    "        Count = int(row[1])\n",
    "        revenue = int(row[2])\n",
    "        average = int(round(int(revenue) / int(count) ,2))\n",
    "        \n",
    "        row.append(average)\n",
    "        records.append(row)\n",
    "\n",
    "output_path = Path(\"output.csv\")\n",
    "\n",
    "with open(output_path, 'w') as csvfile:\n",
    "    csvwriter = csv.writer(csvfile, delimiter=',')\n",
    "    \n",
    "        \n",
    "        "
   ]
  },
  {
   "cell_type": "code",
   "execution_count": null,
   "id": "b36ee901-ae43-4e83-a7c3-db630020f5d1",
   "metadata": {},
   "outputs": [],
   "source": []
  }
 ],
 "metadata": {
  "kernelspec": {
   "display_name": "Python 3 (ipykernel)",
   "language": "python",
   "name": "python3"
  },
  "language_info": {
   "codemirror_mode": {
    "name": "ipython",
    "version": 3
   },
   "file_extension": ".py",
   "mimetype": "text/x-python",
   "name": "python",
   "nbconvert_exporter": "python",
   "pygments_lexer": "ipython3",
   "version": "3.7.13"
  }
 },
 "nbformat": 4,
 "nbformat_minor": 5
}
