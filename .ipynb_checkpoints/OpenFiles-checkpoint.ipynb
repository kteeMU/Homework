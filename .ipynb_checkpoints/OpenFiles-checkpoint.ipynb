{
 "cells": [
  {
   "cell_type": "code",
   "execution_count": 1,
   "id": "29951565-2987-405a-8b60-6a4201df50fc",
   "metadata": {},
   "outputs": [],
   "source": [
    "from pathlib import Path"
   ]
  },
  {
   "cell_type": "code",
   "execution_count": 2,
   "id": "6e88ab36-7137-46f6-ad7a-4ca247bb5279",
   "metadata": {},
   "outputs": [
    {
     "name": "stdout",
     "output_type": "stream",
     "text": [
      "/Users/thehalpins/FinTech_instructionals/Homework\n"
     ]
    }
   ],
   "source": [
    "print(Path.cwd())"
   ]
  },
  {
   "cell_type": "code",
   "execution_count": 3,
   "id": "f4c71923-8f07-461b-a1f4-f4646e047b34",
   "metadata": {},
   "outputs": [],
   "source": [
    "#filepath = Path(\"/Users/thehalpins/FinTech_instructionals/Homework/customer_traffic.txt\")\n",
    "\n"
   ]
  },
  {
   "cell_type": "code",
   "execution_count": 17,
   "id": "e2f8f8df-4bba-4897-baf9-1a0ccb8c4791",
   "metadata": {},
   "outputs": [
    {
     "name": "stdout",
     "output_type": "stream",
     "text": [
      "49\n",
      "97\n",
      "78\n",
      "29\n",
      "32\n",
      "54\n",
      "47\n",
      "38\n",
      "43\n",
      "99\n",
      "16\n",
      "22\n",
      "4\n",
      "85\n",
      "16\n",
      "79\n",
      "52\n",
      "82\n",
      "54\n",
      "16\n",
      "69\n",
      "80\n",
      "64\n",
      "14\n",
      "24\n",
      "81\n",
      "31\n",
      "17\n",
      "46\n",
      "66\n",
      "83\n",
      "3\n",
      "2\n",
      "73\n",
      "78\n",
      "28\n",
      "56\n",
      "80\n",
      "88\n",
      "1\n",
      "72\n",
      "79\n",
      "66\n",
      "15\n",
      "19\n",
      "21\n",
      "2\n",
      "70\n",
      "41\n",
      "86\n",
      "72\n",
      "60\n",
      "43\n",
      "51\n",
      "0\n",
      "42\n",
      "56\n",
      "25\n",
      "89\n",
      "18\n",
      "23\n",
      "99\n",
      "69\n",
      "85\n",
      "77\n",
      "23\n",
      "67\n",
      "37\n",
      "2\n",
      "50\n",
      "48\n",
      "33\n",
      "3\n",
      "77\n",
      "8\n",
      "33\n",
      "77\n",
      "97\n",
      "73\n",
      "35\n",
      "9\n",
      "43\n",
      "0\n",
      "71\n",
      "69\n",
      "52\n",
      "56\n",
      "8\n",
      "99\n",
      "65\n",
      "22\n",
      "89\n",
      "77\n",
      "43\n",
      "85\n",
      "55\n",
      "85\n",
      "26\n",
      "67\n",
      "5\n"
     ]
    }
   ],
   "source": [
    "from pathlib import Path\n",
    "filepath = Path(\"/Users/thehalpins/FinTech_instructionals/Homework/customer_traffic.txt\")\n",
    "\n",
    "with open(filepath, 'r') as file:\n",
    "    text = file.read()\n",
    "    print(text)\n",
    "    \n",
    "    line_num = 1\n",
    "    for line in file:\n",
    "        print(f\"line {line_num}: {line}\")\n",
    "        line_num += 1\n",
    "\n",
    "output_path = Path(\"output.txt\")\n",
    "              \n",
    "with open(output_path,'w') as file:\n",
    "    file.write(\"This is an example\")\n",
    "    file.write(text)\n",
    "            \n"
   ]
  },
  {
   "cell_type": "code",
   "execution_count": 14,
   "id": "7a4d91d2-9516-4fc2-a149-c477d50c8916",
   "metadata": {},
   "outputs": [
    {
     "ename": "SyntaxError",
     "evalue": "EOL while scanning string literal (1822932419.py, line 32)",
     "output_type": "error",
     "traceback": [
      "\u001b[0;36m  File \u001b[0;32m\"/var/folders/l0/lhy7vhx10w9gh2mbb7yfzb1r0000gn/T/ipykernel_15448/1822932419.py\"\u001b[0;36m, line \u001b[0;32m32\u001b[0m\n\u001b[0;31m    print(f\"day_count: {day_count})\u001b[0m\n\u001b[0m                                   ^\u001b[0m\n\u001b[0;31mSyntaxError\u001b[0m\u001b[0;31m:\u001b[0m EOL while scanning string literal\n"
     ]
    }
   ],
   "source": [
    "#This script will parse through a text file and sum the total\n",
    "#number of customers and the count of days in the text file to\n",
    "#alculate the daily average of customer traffic for an e-commerce\n",
    "#business.\n",
    "##\"\"\"\n",
    "\n",
    "# @TODO: From the pathlib library, import the main class Path\n",
    "\n",
    "\n",
    "# @TODO: Check the current directory where the Python program is executing from\n",
    "\n",
    "\n",
    "# @TODO: Set the path using Pathlib\n",
    "from pathlib import Path\n",
    "filepath = Path(\"/Users/thehalpins/FinTech_instructionals/Homework/customer_traffic.txt\")\n",
    "\n",
    "\n",
    "# Initialize variables\n",
    "customer_total = 0\n",
    "day_count = 0\n",
    "\n",
    "# @TODO: Open the file in \"read\" mode ('r') and store the contents in the variable 'file'\n",
    "\n",
    "with open(filepath, 'r') as file:\n",
    "    for line in file:\n",
    "        number = int(line)\n",
    "    \n",
    "        customer_total += number\n",
    "        daycount += 1\n",
    "        \n",
    "print(f\"customer_total: {customer_total}\")\n",
    "print(f\"day_count: {day_count})\n",
    "print()\n",
    " \n"
   ]
  },
  {
   "cell_type": "code",
   "execution_count": 15,
   "id": "b2850fb1-e68f-4f9e-8977-6ea568ba2ce2",
   "metadata": {},
   "outputs": [],
   "source": [
    "output_path = 'output.txt'"
   ]
  },
  {
   "cell_type": "code",
   "execution_count": null,
   "id": "06517dec-c831-45a8-adcf-adf185d505a6",
   "metadata": {},
   "outputs": [],
   "source": [
    "output_path = 'output.txt'\n",
    "\n",
    "with open(output_path, 'w') as file"
   ]
  }
 ],
 "metadata": {
  "kernelspec": {
   "display_name": "Python 3 (ipykernel)",
   "language": "python",
   "name": "python3"
  },
  "language_info": {
   "codemirror_mode": {
    "name": "ipython",
    "version": 3
   },
   "file_extension": ".py",
   "mimetype": "text/x-python",
   "name": "python",
   "nbconvert_exporter": "python",
   "pygments_lexer": "ipython3",
   "version": "3.7.13"
  }
 },
 "nbformat": 4,
 "nbformat_minor": 5
}
